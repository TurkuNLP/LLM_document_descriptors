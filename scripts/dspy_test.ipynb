{
 "cells": [
  {
   "cell_type": "code",
   "execution_count": 1,
   "id": "0ac3eb83-f30b-4806-9192-087a7a153830",
   "metadata": {},
   "outputs": [],
   "source": [
    "import dspy\n",
    "from dspy.teleprompt import MIPROv2\n",
    "import sys\n",
    "import os\n",
    "import json"
   ]
  },
  {
   "cell_type": "code",
   "execution_count": 2,
   "id": "ca5bff1b-c5bc-4a05-9701-4f083ab10de7",
   "metadata": {},
   "outputs": [],
   "source": [
    "lm = dspy.LM('openai/gpt-4o-mini', api_key=os.environ[\"OPENAI_API_KEY\"])\n",
    "dspy.configure(lm=lm)"
   ]
  },
  {
   "cell_type": "code",
   "execution_count": 3,
   "id": "2e3a6ca6-290d-4d2c-b215-04e87e5447d3",
   "metadata": {},
   "outputs": [
    {
     "name": "stderr",
     "output_type": "stream",
     "text": [
      "2024/11/28 12:21:10 INFO dspy.teleprompt.mipro_optimizer_v2: \n",
      "RUNNING WITH THE FOLLOWING LIGHT AUTO RUN SETTINGS:\n",
      "num_trials: 7\n",
      "minibatch: False\n",
      "num_candidates: 5\n",
      "valset size: 16\n",
      "\n"
     ]
    },
    {
     "name": "stdin",
     "output_type": "stream",
     "text": [
      "\u001b[93m\u001b[1mProjected Language Model (LM) Calls\u001b[0m\n",
      "\n",
      "Based on the parameters you have set, the maximum number of LM calls is projected as follows:\n",
      "\n",
      "\u001b[93m- Prompt Generation: \u001b[94m\u001b[1m10\u001b[0m\u001b[93m data summarizer calls + \u001b[94m\u001b[1m5\u001b[0m\u001b[93m * \u001b[94m\u001b[1m1\u001b[0m\u001b[93m lm calls in program + (\u001b[94m\u001b[1m2\u001b[0m\u001b[93m) lm calls in program-aware proposer = \u001b[94m\u001b[1m17\u001b[0m\u001b[93m prompt model calls\u001b[0m\n",
      "\u001b[93m- Program Evaluation: \u001b[94m\u001b[1m16\u001b[0m\u001b[93m examples in val set * \u001b[94m\u001b[1m7\u001b[0m\u001b[93m batches = \u001b[94m\u001b[1m112\u001b[0m\u001b[93m LM program calls\u001b[0m\n",
      "\n",
      "\u001b[93m\u001b[1mEstimated Cost Calculation:\u001b[0m\n",
      "\n",
      "\u001b[93mTotal Cost = (Number of calls to task model * (Avg Input Token Length per Call * Task Model Price per Input Token + Avg Output Token Length per Call * Task Model Price per Output Token) \n",
      "            + (Number of program calls * (Avg Input Token Length per Call * Task Prompt Price per Input Token + Avg Output Token Length per Call * Prompt Model Price per Output Token).\u001b[0m\n",
      "\n",
      "For a preliminary estimate of potential costs, we recommend you perform your own calculations based on the task\n",
      "and prompt models you intend to use. If the projected costs exceed your budget or expectations, you may consider:\n",
      "\n",
      "\u001b[93m- Reducing the number of trials (`num_trials`), the size of the valset, or the number of LM calls in your program.\u001b[0m\n",
      "\u001b[93m- Using a cheaper task model to optimize the prompt.\u001b[0m\n",
      "\u001b[93m- Setting `minibatch=True` if you haven't already.\u001b[0m\n",
      "\n",
      "To proceed with the execution of this program, please confirm by typing \u001b[94m'y'\u001b[0m for yes or \u001b[94m'n'\u001b[0m for no.\n",
      "\n",
      "If you would like to bypass this confirmation step in future executions, set the \u001b[93m`requires_permission_to_run`\u001b[0m flag to \u001b[93m`False`\u001b[0m when calling compile.\n",
      "\n",
      "\u001b[93mAwaiting your input...\u001b[0m\n",
      "\n",
      "Do you wish to continue? (y/n):  y\n"
     ]
    },
    {
     "name": "stderr",
     "output_type": "stream",
     "text": [
      "2024/11/28 12:21:35 INFO dspy.teleprompt.mipro_optimizer_v2: \n",
      "==> STEP 1: BOOTSTRAP FEWSHOT EXAMPLES <==\n",
      "2024/11/28 12:21:35 INFO dspy.teleprompt.mipro_optimizer_v2: These will be used as few-shot example candidates for our program and for creating instructions.\n",
      "\n",
      "2024/11/28 12:21:35 INFO dspy.teleprompt.mipro_optimizer_v2: Bootstrapping N=5 sets of demonstrations...\n"
     ]
    },
    {
     "name": "stdout",
     "output_type": "stream",
     "text": [
      "Bootstrapping set 1/5\n",
      "Bootstrapping set 2/5\n",
      "Bootstrapping set 3/5\n"
     ]
    },
    {
     "name": "stderr",
     "output_type": "stream",
     "text": [
      "  0%|          | 0/4 [00:00<?, ?it/s]2024/11/28 12:21:35 ERROR dspy.teleprompt.bootstrap: Failed to run or to evaluate example {'document': '|Viewing Single Post From: Spoilers for the Week of February 11th|\\n|Lil||Feb 1 2013, 09:58 AM|\\nDon\\'t care about Chloe/Taniel/Jen-Jen. Don\\'t care about Sami, really, but hoping that we get some good \"SAMANTHA GENE!!\" Marlena Death-Stares out of it. And \"newfound\" feelings. Please. If only.\\nSTEFANO!! STEFANO, STEFANO, STEFANO!!!! :cheer:\\n|Spoilers for the Week of February 11th · DAYS: News, Spoilers & Discussion|', 'general_descriptors': ['Informal tone', 'Fan discussion', 'Weekly spoilers', 'Soap opera genre', 'Concise', 'Conversational language', 'Colloquial expressions', 'Cheerful enthusiasm', 'Emphasis on character names', 'Casual commentary', 'Speculative content'], 'specific_descriptors': ['Use of exclamation marks', 'Casual references to characters', 'Appeal for dialogue content', 'Indirect expressions of dislike', 'Mentions of specific character arcs', 'Choppy sentence structure', 'Use of emojis', \"Emphasis on Marlena's 'Death-Stares'\", \"Use of repetition with 'STEFANO'\", \"Time reference to 'February 11th'\"]} with <function quality_metric at 0x7ffd41bcc0d0> due to 'dict' object has no attribute 'inputs'.\n",
      "2024/11/28 12:21:35 ERROR dspy.teleprompt.bootstrap: Failed to run or to evaluate example {'document': '*sigh* Fundamentalist community, let me pass on some advice to you I learned from the atheistic community:\\nIf you have set yourself on fire, do not run.\\nOkay? Okay?? Please?\\nLook, D, you had two months to say to Harvard in private emails, \"Im sorry, I shouldnt have been using that animation in my paid presentations. I wont use it again. I really do like \\'Inner Life\\', though, and would love to use it in classroom presentations, from the BioVisions site, if that is acceptable.\"\\nI sat here, for two months, waiting for that to happen, anything to happen, and it didnt. Two months, on your own terms, you could have written a similar post to yesterdays. I would have given you the benefit of the doubt-- maybe you didnt know the credits werent visible to the audience, and I wouldnt have said a word beyond this, as its Harvards problem, not mine. This would have been a funny joke to those of us involved in dealing with you people, but it would have been a PR non-issue for you.\\nBut after you set yourself on fire, you didnt douse it out with a bucket of ice cold reality and accountability. You ran. And youre still running.\\nWhy not just state \"I screwed up. Sorry everyone.\" and move on? Why the excuses? Why the denial? Why the passive language? Why the vague words and cryptic capitalizations? Why the writes and rewrites of your \\'press release\\'? We know it wasnt written of your own volition, or it would have been done *before* Harvard had to take action. And, your behavior before this, regarding this issue, is not indicative of someone who made an innocent mistake. Its weird.\\nSo what with this frantic running? Is the inability to say \"I was wrong\" a pathological feature of Creationists? Or are you hiding something? Or is it both? Or is it more?\\nAnd now we get Casey weighing in on the issue, according to cre8id at AboveTopSecret.com-- PBS/NOVA online - Intelligent Design on trial:\\n...to my knowledge, Discovery Institute has neither authorized nor received nor is making use of any presentation that used that animation. We have had nothing to do with creating or selling a DVD of that animation, nor do we have anything to do with placing that presentation on Google Video.I dont know what he is talking about with that last part, but the first part sounds similar to DIs claims post-Dover (\"WE HAD NOTHING TO DO WITH DOVER!\"). Maybe Luskin is telling the truth. Maybe this was a magic non-science Creation-friendly narration with convenient edits that AiG or ICR would have killed for... but only Dembski could find it... but he cant tell us where... and he didnt share it with anyone... and its subsequently disappeared from the Internet...\\nBut that simply isnt what Ive been told. Maybe this was all a silly Dembski mistake, blown out of proportion due to his decision to remain silent... But what if we find more videos of more DI fellows, presenting this animation?\\n*shrug* If youve set yourself on fire, do not run, DI. If youve done it, better admit it to Harvard now, apologize, and move on.', 'general_descriptors': ['Informal tone', 'Critical analysis', 'Personal advice', 'Confrontational style', 'Lengthy commentary', 'Casual language', 'Conversational structure', 'Reflective', 'Direct address', 'Frustration expressed', 'Speculative questioning', 'Skeptical', 'Engaged audience', 'Accountability emphasis', 'Discourse on integrity'], 'specific_descriptors': ['*Sigh*', 'Fundamentalist community', 'Atheistic community', 'Set yourself on fire', 'Do not run', 'Private emails', 'I’m sorry', 'I shouldn’t have been using that animation', 'Paid presentations', 'Two months', 'Benefit of the doubt', 'PR non-issue', 'Douse it out with a bucket of ice cold reality', 'Still running', \"State 'I screwed up. Sorry everyone.'\", 'Why the excuses?', 'Why the denial?', 'Why the passive language?', 'Vague words and cryptic capitalizations', 'Press release', 'Written of your own volition', 'Behavior indicative of someone who made an innocent mistake', 'Frantic running', 'Pathological feature of Creationists', 'Hiding something', 'Discovery Institute', 'Authorized nor received', 'Making use of any presentation', 'What he is talking about', 'Claims post-Dover', 'WE HAD NOTHING TO DO WITH DOVER!', 'Magic non-science Creation-friendly narration', 'Subsequently disappeared from the Internet', 'Silly Dembski mistake', 'Blown out of proportion', 'Presenting this animation', \"If you've set yourself on fire, do not run, DI\", 'Better admit it to Harvard now, apologize, and move on']} with <function quality_metric at 0x7ffd41bcc0d0> due to 'dict' object has no attribute 'inputs'.\n",
      "2024/11/28 12:21:35 ERROR dspy.teleprompt.bootstrap: Failed to run or to evaluate example {'document': 'A novel two-step immunotherapy approach has shown clinically beneficial responses in patients with advanced ovarian cancer. Following Lifestyle Recommendations Reduces Risk of Cancer Death\\nPeople who follow the diet and lifestyle recommendations laid out by the WCRF and the AICR have a 20 percent reduced risk of dying from cancer. UCSF Launches Social Networking Site for Patients and Families with Hereditary Cancers\\nFor Immediate Release May 14, 2013 UCSF Launches Social Networking Site for Patients and Families... Genomic Test May Help Guide Prostate Cancer Treatment\\nThe Oncotype DX® Prostate Cancer Test strongly predicts aggressiveness of disease. Statins Linked to Lower Risk of Liver Cancer in Hepatitis C\\nPeople infected with chronic hepatitis C are less likely to develop liver cancer if they are taking statins.\\nRadioimmunotherapy (RIT) is a type of targeted therapy that delivers radiation directly to cancer cells.... Urinary Incontinence\\nOverview The urinary tract includes the kidneys, the ureters, the bladder, and the urethra. The kidneys... Advanced Directives\\nLiving Wills Every competent adult has, in most cases, the freedom to accept or refuse medical treatment.... Caregivers\\nWhat is Caregiving and Who are Caregivers? Caregivers are individuals who provide care to chronically... Chemotherapy for Older Patients: What You Should Know About the Risk of Infection\\nAs you may already know, chemotherapy works by attacking the rapidly dividing cells it finds in the body,...\\nAn ongoing series highlighting complementary therapies, adapted from The Complete Guide to Complementary... Clear and precise\\nMohs surgery provides a tissue-sparing approach to skin cancer surgery. By Eleanor Mayfield Michele Kelsey... Chemical Reaction\\nChemicals may be disrupting our hormones—and our health. By Laurie Wertich Exposure to synthetic chemicals... College Kids Kick Cancer\\nBy Diana Price College kids and cancer—not two topics most of us would immediately connect. And yet... Cooking with Fruits and Vegetables\\nIn the introduction to Ripe: A Fresh, Colorful Approach to Fruits and Vegetables (Running Press, 2011;...\\nAnnual meeting brings together cancer experts from around the world. Kari Bohlke, ScD The 2011 Annual... Bone Fractures in Breast Cancer Patients More Frequent with Femara than with Tamoxifen\\nResearchers affiliated with the BIG I-98 Collaborative and International Breast Study Groups... Single Treatment with High-intensity Focused Ultrasound Effective for Localized Prostate Cancer\\nResearchers from McMaster University in Canada have reported that high-intensity focused... Marital Separation Impacts Cancer Survival\\nResearchers from the University of Indiana and the Fox Chase Cancer Center... 2009 Oncology Conference Coverage View up-to-date coverage of the 2009 Oncology Conference here.', 'general_descriptors': ['Informative tone', 'Clinical focus', 'Research-oriented', 'Health and wellness emphasis', 'Summary of medical studies', 'Mixed content structure', 'Short articles', 'Direct language', 'Professional audience', 'Educational content'], 'specific_descriptors': ['Two-step immunotherapy approach', 'Clinically beneficial responses', 'Lifestyle recommendations', '20 percent reduced risk of cancer death', 'UCSF social networking site', 'Genomic test for prostate cancer', 'Oncotype DX® Prostate Cancer Test', 'Statins linked to liver cancer risk', 'Radioimmunotherapy (RIT)', 'Overview of urinary incontinence', 'Living wills and advanced directives', 'Definition of caregivers', 'Chemotherapy risks for older patients', 'Complementary therapies series', 'Clear and precise expression', 'Mohs surgery technique', 'Chemical disruption of hormones', 'College kids tackling cancer', 'Cooking with fruits and vegetables', 'Annual meeting of cancer experts', 'Bone fractures in breast cancer patients', 'High-intensity focused ultrasound', 'Marital separation and cancer survival', '2009 Oncology Conference coverage']} with <function quality_metric at 0x7ffd41bcc0d0> due to 'dict' object has no attribute 'inputs'.\n",
      "2024/11/28 12:21:35 ERROR dspy.teleprompt.bootstrap: Failed to run or to evaluate example {'document': 'Free the Cans! Working Together to Reduce Waste\\nIn a blog about how people share, it’s worth the occasional reference to the bizarre ways that people DON’T SHARE. Is it safe to say we live in a society that places great value on independence, private property, personal space, and privacy? Even sometimes extreme value? Is that why people at an 8-unit apartment building in Oakland, CA have separate caged stalls for eight separate trash cans? I know it’s not nice to stare, but I walked by these incarcerated cans and could not help myself. I returned with my camera, so that I could share my question with the world: Why can’t people share trash cans or a single dumpster? Or, at the very least, why can’t the cans share driveway space?\\nThe Zero Waste Movement has come to the Bay Area and it calls for a new use for these eight cages. Here are my suggestions:\\n- Turn two of those cages into compost bins. Fill one with grass, leaves, and vegetable scraps, let it decompose for six months, then start filling the second bin in the meantime.\\n- Put in a green can, which is what Oakland uses to collect milk cartons, pizza boxes, yard trimmings, and all food to send it to the municipal composting facility. If your city doesn’t do this yet, tell them it’s a great idea and they could be as cool and cutting edge as Oakland.\\n- Put in one or two recycling cans for glass, plastic, cardboard, paper, aluminum, etc.\\n- Put out a FREE STUFF box for unwanted clothing and household items. The neighbors could sort through it each week, and later put it out on the curb for passers-by to explore. Take what’s left to Goodwill or a comparable donation spot.\\n- Put in a few small bins for various items that can be recycled, such asbatteries and electronics, which can then be taken to an electronics recycling center every month or two. Styrofoam can be brought to a local packaging store or ceramics business that accepts used packaging material. Or, if you accumulate a bunch of plastic bags,take them to a store or to some other place that accepts used ones.\\n- Put in ONE trash can. By the time you compost, recycle, re-use, redistribute, and take a few other measures to reduce your waste, you’ll have almost no trash each week.\\n- Install a bicycle rack or locked bicycle cage.\\n- With the leftover space, put in a container garden and a bench where neighbors can gather and chat. A much more pleasant alternative to the garbage can jailhouse ambiance, wouldn’t you agree?', 'general_descriptors': ['Informative tone', 'Community-focused', 'Environmental emphasis', 'Practical suggestions', 'Lengthy blog post', 'Conversational language', 'Personal anecdote', 'Civic engagement', 'Proactive solutions', 'Takeaway action items'], 'specific_descriptors': [\"Title: 'Free the Cans!'\", 'Reference to sharing behaviors', 'Critique of societal values', 'Observation of trash can storage', 'Use of imagery (caged stalls)', 'Questioning sharing norms', 'Introduction of the Zero Waste Movement', 'Suggestions for transforming trash can cages', 'List format of suggestions', 'Emphasizing composting process', 'Mention of municipal composting', 'Call to action for civic involvement', 'Discussion of recycling options', 'Advocacy for a FREE STUFF box', 'Inclusion of electronic recycling', 'Proposing alternatives to trash', 'Suggesting garden and gathering space', 'Contrast of garbage vs. community space']} with <function quality_metric at 0x7ffd41bcc0d0> due to 'dict' object has no attribute 'inputs'.\n",
      "100%|██████████| 4/4 [00:00<00:00, 1870.16it/s]\n"
     ]
    },
    {
     "name": "stdout",
     "output_type": "stream",
     "text": [
      "Bootstrapped 0 full traces after 3 examples for up to 1 rounds, amounting to 4 attempts.\n",
      "Bootstrapping set 4/5\n"
     ]
    },
    {
     "name": "stderr",
     "output_type": "stream",
     "text": [
      "  0%|          | 0/4 [00:00<?, ?it/s]2024/11/28 12:21:35 ERROR dspy.teleprompt.bootstrap: Failed to run or to evaluate example {'document': '|Viewing Single Post From: Spoilers for the Week of February 11th|\\n|Lil||Feb 1 2013, 09:58 AM|\\nDon\\'t care about Chloe/Taniel/Jen-Jen. Don\\'t care about Sami, really, but hoping that we get some good \"SAMANTHA GENE!!\" Marlena Death-Stares out of it. And \"newfound\" feelings. Please. If only.\\nSTEFANO!! STEFANO, STEFANO, STEFANO!!!! :cheer:\\n|Spoilers for the Week of February 11th · DAYS: News, Spoilers & Discussion|', 'general_descriptors': ['Informal tone', 'Fan discussion', 'Weekly spoilers', 'Soap opera genre', 'Concise', 'Conversational language', 'Colloquial expressions', 'Cheerful enthusiasm', 'Emphasis on character names', 'Casual commentary', 'Speculative content'], 'specific_descriptors': ['Use of exclamation marks', 'Casual references to characters', 'Appeal for dialogue content', 'Indirect expressions of dislike', 'Mentions of specific character arcs', 'Choppy sentence structure', 'Use of emojis', \"Emphasis on Marlena's 'Death-Stares'\", \"Use of repetition with 'STEFANO'\", \"Time reference to 'February 11th'\"]} with <function quality_metric at 0x7ffd41bcc0d0> due to 'dict' object has no attribute 'inputs'.\n",
      "2024/11/28 12:21:35 ERROR dspy.teleprompt.bootstrap: Failed to run or to evaluate example {'document': '*sigh* Fundamentalist community, let me pass on some advice to you I learned from the atheistic community:\\nIf you have set yourself on fire, do not run.\\nOkay? Okay?? Please?\\nLook, D, you had two months to say to Harvard in private emails, \"Im sorry, I shouldnt have been using that animation in my paid presentations. I wont use it again. I really do like \\'Inner Life\\', though, and would love to use it in classroom presentations, from the BioVisions site, if that is acceptable.\"\\nI sat here, for two months, waiting for that to happen, anything to happen, and it didnt. Two months, on your own terms, you could have written a similar post to yesterdays. I would have given you the benefit of the doubt-- maybe you didnt know the credits werent visible to the audience, and I wouldnt have said a word beyond this, as its Harvards problem, not mine. This would have been a funny joke to those of us involved in dealing with you people, but it would have been a PR non-issue for you.\\nBut after you set yourself on fire, you didnt douse it out with a bucket of ice cold reality and accountability. You ran. And youre still running.\\nWhy not just state \"I screwed up. Sorry everyone.\" and move on? Why the excuses? Why the denial? Why the passive language? Why the vague words and cryptic capitalizations? Why the writes and rewrites of your \\'press release\\'? We know it wasnt written of your own volition, or it would have been done *before* Harvard had to take action. And, your behavior before this, regarding this issue, is not indicative of someone who made an innocent mistake. Its weird.\\nSo what with this frantic running? Is the inability to say \"I was wrong\" a pathological feature of Creationists? Or are you hiding something? Or is it both? Or is it more?\\nAnd now we get Casey weighing in on the issue, according to cre8id at AboveTopSecret.com-- PBS/NOVA online - Intelligent Design on trial:\\n...to my knowledge, Discovery Institute has neither authorized nor received nor is making use of any presentation that used that animation. We have had nothing to do with creating or selling a DVD of that animation, nor do we have anything to do with placing that presentation on Google Video.I dont know what he is talking about with that last part, but the first part sounds similar to DIs claims post-Dover (\"WE HAD NOTHING TO DO WITH DOVER!\"). Maybe Luskin is telling the truth. Maybe this was a magic non-science Creation-friendly narration with convenient edits that AiG or ICR would have killed for... but only Dembski could find it... but he cant tell us where... and he didnt share it with anyone... and its subsequently disappeared from the Internet...\\nBut that simply isnt what Ive been told. Maybe this was all a silly Dembski mistake, blown out of proportion due to his decision to remain silent... But what if we find more videos of more DI fellows, presenting this animation?\\n*shrug* If youve set yourself on fire, do not run, DI. If youve done it, better admit it to Harvard now, apologize, and move on.', 'general_descriptors': ['Informal tone', 'Critical analysis', 'Personal advice', 'Confrontational style', 'Lengthy commentary', 'Casual language', 'Conversational structure', 'Reflective', 'Direct address', 'Frustration expressed', 'Speculative questioning', 'Skeptical', 'Engaged audience', 'Accountability emphasis', 'Discourse on integrity'], 'specific_descriptors': ['*Sigh*', 'Fundamentalist community', 'Atheistic community', 'Set yourself on fire', 'Do not run', 'Private emails', 'I’m sorry', 'I shouldn’t have been using that animation', 'Paid presentations', 'Two months', 'Benefit of the doubt', 'PR non-issue', 'Douse it out with a bucket of ice cold reality', 'Still running', \"State 'I screwed up. Sorry everyone.'\", 'Why the excuses?', 'Why the denial?', 'Why the passive language?', 'Vague words and cryptic capitalizations', 'Press release', 'Written of your own volition', 'Behavior indicative of someone who made an innocent mistake', 'Frantic running', 'Pathological feature of Creationists', 'Hiding something', 'Discovery Institute', 'Authorized nor received', 'Making use of any presentation', 'What he is talking about', 'Claims post-Dover', 'WE HAD NOTHING TO DO WITH DOVER!', 'Magic non-science Creation-friendly narration', 'Subsequently disappeared from the Internet', 'Silly Dembski mistake', 'Blown out of proportion', 'Presenting this animation', \"If you've set yourself on fire, do not run, DI\", 'Better admit it to Harvard now, apologize, and move on']} with <function quality_metric at 0x7ffd41bcc0d0> due to 'dict' object has no attribute 'inputs'.\n",
      "2024/11/28 12:21:35 ERROR dspy.teleprompt.bootstrap: Failed to run or to evaluate example {'document': 'A novel two-step immunotherapy approach has shown clinically beneficial responses in patients with advanced ovarian cancer. Following Lifestyle Recommendations Reduces Risk of Cancer Death\\nPeople who follow the diet and lifestyle recommendations laid out by the WCRF and the AICR have a 20 percent reduced risk of dying from cancer. UCSF Launches Social Networking Site for Patients and Families with Hereditary Cancers\\nFor Immediate Release May 14, 2013 UCSF Launches Social Networking Site for Patients and Families... Genomic Test May Help Guide Prostate Cancer Treatment\\nThe Oncotype DX® Prostate Cancer Test strongly predicts aggressiveness of disease. Statins Linked to Lower Risk of Liver Cancer in Hepatitis C\\nPeople infected with chronic hepatitis C are less likely to develop liver cancer if they are taking statins.\\nRadioimmunotherapy (RIT) is a type of targeted therapy that delivers radiation directly to cancer cells.... Urinary Incontinence\\nOverview The urinary tract includes the kidneys, the ureters, the bladder, and the urethra. The kidneys... Advanced Directives\\nLiving Wills Every competent adult has, in most cases, the freedom to accept or refuse medical treatment.... Caregivers\\nWhat is Caregiving and Who are Caregivers? Caregivers are individuals who provide care to chronically... Chemotherapy for Older Patients: What You Should Know About the Risk of Infection\\nAs you may already know, chemotherapy works by attacking the rapidly dividing cells it finds in the body,...\\nAn ongoing series highlighting complementary therapies, adapted from The Complete Guide to Complementary... Clear and precise\\nMohs surgery provides a tissue-sparing approach to skin cancer surgery. By Eleanor Mayfield Michele Kelsey... Chemical Reaction\\nChemicals may be disrupting our hormones—and our health. By Laurie Wertich Exposure to synthetic chemicals... College Kids Kick Cancer\\nBy Diana Price College kids and cancer—not two topics most of us would immediately connect. And yet... Cooking with Fruits and Vegetables\\nIn the introduction to Ripe: A Fresh, Colorful Approach to Fruits and Vegetables (Running Press, 2011;...\\nAnnual meeting brings together cancer experts from around the world. Kari Bohlke, ScD The 2011 Annual... Bone Fractures in Breast Cancer Patients More Frequent with Femara than with Tamoxifen\\nResearchers affiliated with the BIG I-98 Collaborative and International Breast Study Groups... Single Treatment with High-intensity Focused Ultrasound Effective for Localized Prostate Cancer\\nResearchers from McMaster University in Canada have reported that high-intensity focused... Marital Separation Impacts Cancer Survival\\nResearchers from the University of Indiana and the Fox Chase Cancer Center... 2009 Oncology Conference Coverage View up-to-date coverage of the 2009 Oncology Conference here.', 'general_descriptors': ['Informative tone', 'Clinical focus', 'Research-oriented', 'Health and wellness emphasis', 'Summary of medical studies', 'Mixed content structure', 'Short articles', 'Direct language', 'Professional audience', 'Educational content'], 'specific_descriptors': ['Two-step immunotherapy approach', 'Clinically beneficial responses', 'Lifestyle recommendations', '20 percent reduced risk of cancer death', 'UCSF social networking site', 'Genomic test for prostate cancer', 'Oncotype DX® Prostate Cancer Test', 'Statins linked to liver cancer risk', 'Radioimmunotherapy (RIT)', 'Overview of urinary incontinence', 'Living wills and advanced directives', 'Definition of caregivers', 'Chemotherapy risks for older patients', 'Complementary therapies series', 'Clear and precise expression', 'Mohs surgery technique', 'Chemical disruption of hormones', 'College kids tackling cancer', 'Cooking with fruits and vegetables', 'Annual meeting of cancer experts', 'Bone fractures in breast cancer patients', 'High-intensity focused ultrasound', 'Marital separation and cancer survival', '2009 Oncology Conference coverage']} with <function quality_metric at 0x7ffd41bcc0d0> due to 'dict' object has no attribute 'inputs'.\n",
      "2024/11/28 12:21:35 ERROR dspy.teleprompt.bootstrap: Failed to run or to evaluate example {'document': 'Free the Cans! Working Together to Reduce Waste\\nIn a blog about how people share, it’s worth the occasional reference to the bizarre ways that people DON’T SHARE. Is it safe to say we live in a society that places great value on independence, private property, personal space, and privacy? Even sometimes extreme value? Is that why people at an 8-unit apartment building in Oakland, CA have separate caged stalls for eight separate trash cans? I know it’s not nice to stare, but I walked by these incarcerated cans and could not help myself. I returned with my camera, so that I could share my question with the world: Why can’t people share trash cans or a single dumpster? Or, at the very least, why can’t the cans share driveway space?\\nThe Zero Waste Movement has come to the Bay Area and it calls for a new use for these eight cages. Here are my suggestions:\\n- Turn two of those cages into compost bins. Fill one with grass, leaves, and vegetable scraps, let it decompose for six months, then start filling the second bin in the meantime.\\n- Put in a green can, which is what Oakland uses to collect milk cartons, pizza boxes, yard trimmings, and all food to send it to the municipal composting facility. If your city doesn’t do this yet, tell them it’s a great idea and they could be as cool and cutting edge as Oakland.\\n- Put in one or two recycling cans for glass, plastic, cardboard, paper, aluminum, etc.\\n- Put out a FREE STUFF box for unwanted clothing and household items. The neighbors could sort through it each week, and later put it out on the curb for passers-by to explore. Take what’s left to Goodwill or a comparable donation spot.\\n- Put in a few small bins for various items that can be recycled, such asbatteries and electronics, which can then be taken to an electronics recycling center every month or two. Styrofoam can be brought to a local packaging store or ceramics business that accepts used packaging material. Or, if you accumulate a bunch of plastic bags,take them to a store or to some other place that accepts used ones.\\n- Put in ONE trash can. By the time you compost, recycle, re-use, redistribute, and take a few other measures to reduce your waste, you’ll have almost no trash each week.\\n- Install a bicycle rack or locked bicycle cage.\\n- With the leftover space, put in a container garden and a bench where neighbors can gather and chat. A much more pleasant alternative to the garbage can jailhouse ambiance, wouldn’t you agree?', 'general_descriptors': ['Informative tone', 'Community-focused', 'Environmental emphasis', 'Practical suggestions', 'Lengthy blog post', 'Conversational language', 'Personal anecdote', 'Civic engagement', 'Proactive solutions', 'Takeaway action items'], 'specific_descriptors': [\"Title: 'Free the Cans!'\", 'Reference to sharing behaviors', 'Critique of societal values', 'Observation of trash can storage', 'Use of imagery (caged stalls)', 'Questioning sharing norms', 'Introduction of the Zero Waste Movement', 'Suggestions for transforming trash can cages', 'List format of suggestions', 'Emphasizing composting process', 'Mention of municipal composting', 'Call to action for civic involvement', 'Discussion of recycling options', 'Advocacy for a FREE STUFF box', 'Inclusion of electronic recycling', 'Proposing alternatives to trash', 'Suggesting garden and gathering space', 'Contrast of garbage vs. community space']} with <function quality_metric at 0x7ffd41bcc0d0> due to 'dict' object has no attribute 'inputs'.\n",
      "100%|██████████| 4/4 [00:00<00:00, 1956.07it/s]\n"
     ]
    },
    {
     "name": "stdout",
     "output_type": "stream",
     "text": [
      "Bootstrapped 0 full traces after 3 examples for up to 1 rounds, amounting to 4 attempts.\n",
      "Bootstrapping set 5/5\n"
     ]
    },
    {
     "name": "stderr",
     "output_type": "stream",
     "text": [
      "  0%|          | 0/4 [00:00<?, ?it/s]2024/11/28 12:21:35 ERROR dspy.teleprompt.bootstrap: Failed to run or to evaluate example {'document': 'Free the Cans! Working Together to Reduce Waste\\nIn a blog about how people share, it’s worth the occasional reference to the bizarre ways that people DON’T SHARE. Is it safe to say we live in a society that places great value on independence, private property, personal space, and privacy? Even sometimes extreme value? Is that why people at an 8-unit apartment building in Oakland, CA have separate caged stalls for eight separate trash cans? I know it’s not nice to stare, but I walked by these incarcerated cans and could not help myself. I returned with my camera, so that I could share my question with the world: Why can’t people share trash cans or a single dumpster? Or, at the very least, why can’t the cans share driveway space?\\nThe Zero Waste Movement has come to the Bay Area and it calls for a new use for these eight cages. Here are my suggestions:\\n- Turn two of those cages into compost bins. Fill one with grass, leaves, and vegetable scraps, let it decompose for six months, then start filling the second bin in the meantime.\\n- Put in a green can, which is what Oakland uses to collect milk cartons, pizza boxes, yard trimmings, and all food to send it to the municipal composting facility. If your city doesn’t do this yet, tell them it’s a great idea and they could be as cool and cutting edge as Oakland.\\n- Put in one or two recycling cans for glass, plastic, cardboard, paper, aluminum, etc.\\n- Put out a FREE STUFF box for unwanted clothing and household items. The neighbors could sort through it each week, and later put it out on the curb for passers-by to explore. Take what’s left to Goodwill or a comparable donation spot.\\n- Put in a few small bins for various items that can be recycled, such asbatteries and electronics, which can then be taken to an electronics recycling center every month or two. Styrofoam can be brought to a local packaging store or ceramics business that accepts used packaging material. Or, if you accumulate a bunch of plastic bags,take them to a store or to some other place that accepts used ones.\\n- Put in ONE trash can. By the time you compost, recycle, re-use, redistribute, and take a few other measures to reduce your waste, you’ll have almost no trash each week.\\n- Install a bicycle rack or locked bicycle cage.\\n- With the leftover space, put in a container garden and a bench where neighbors can gather and chat. A much more pleasant alternative to the garbage can jailhouse ambiance, wouldn’t you agree?', 'general_descriptors': ['Informative tone', 'Community-focused', 'Environmental emphasis', 'Practical suggestions', 'Lengthy blog post', 'Conversational language', 'Personal anecdote', 'Civic engagement', 'Proactive solutions', 'Takeaway action items'], 'specific_descriptors': [\"Title: 'Free the Cans!'\", 'Reference to sharing behaviors', 'Critique of societal values', 'Observation of trash can storage', 'Use of imagery (caged stalls)', 'Questioning sharing norms', 'Introduction of the Zero Waste Movement', 'Suggestions for transforming trash can cages', 'List format of suggestions', 'Emphasizing composting process', 'Mention of municipal composting', 'Call to action for civic involvement', 'Discussion of recycling options', 'Advocacy for a FREE STUFF box', 'Inclusion of electronic recycling', 'Proposing alternatives to trash', 'Suggesting garden and gathering space', 'Contrast of garbage vs. community space']} with <function quality_metric at 0x7ffd41bcc0d0> due to 'dict' object has no attribute 'inputs'.\n",
      "2024/11/28 12:21:35 ERROR dspy.teleprompt.bootstrap: Failed to run or to evaluate example {'document': 'A novel two-step immunotherapy approach has shown clinically beneficial responses in patients with advanced ovarian cancer. Following Lifestyle Recommendations Reduces Risk of Cancer Death\\nPeople who follow the diet and lifestyle recommendations laid out by the WCRF and the AICR have a 20 percent reduced risk of dying from cancer. UCSF Launches Social Networking Site for Patients and Families with Hereditary Cancers\\nFor Immediate Release May 14, 2013 UCSF Launches Social Networking Site for Patients and Families... Genomic Test May Help Guide Prostate Cancer Treatment\\nThe Oncotype DX® Prostate Cancer Test strongly predicts aggressiveness of disease. Statins Linked to Lower Risk of Liver Cancer in Hepatitis C\\nPeople infected with chronic hepatitis C are less likely to develop liver cancer if they are taking statins.\\nRadioimmunotherapy (RIT) is a type of targeted therapy that delivers radiation directly to cancer cells.... Urinary Incontinence\\nOverview The urinary tract includes the kidneys, the ureters, the bladder, and the urethra. The kidneys... Advanced Directives\\nLiving Wills Every competent adult has, in most cases, the freedom to accept or refuse medical treatment.... Caregivers\\nWhat is Caregiving and Who are Caregivers? Caregivers are individuals who provide care to chronically... Chemotherapy for Older Patients: What You Should Know About the Risk of Infection\\nAs you may already know, chemotherapy works by attacking the rapidly dividing cells it finds in the body,...\\nAn ongoing series highlighting complementary therapies, adapted from The Complete Guide to Complementary... Clear and precise\\nMohs surgery provides a tissue-sparing approach to skin cancer surgery. By Eleanor Mayfield Michele Kelsey... Chemical Reaction\\nChemicals may be disrupting our hormones—and our health. By Laurie Wertich Exposure to synthetic chemicals... College Kids Kick Cancer\\nBy Diana Price College kids and cancer—not two topics most of us would immediately connect. And yet... Cooking with Fruits and Vegetables\\nIn the introduction to Ripe: A Fresh, Colorful Approach to Fruits and Vegetables (Running Press, 2011;...\\nAnnual meeting brings together cancer experts from around the world. Kari Bohlke, ScD The 2011 Annual... Bone Fractures in Breast Cancer Patients More Frequent with Femara than with Tamoxifen\\nResearchers affiliated with the BIG I-98 Collaborative and International Breast Study Groups... Single Treatment with High-intensity Focused Ultrasound Effective for Localized Prostate Cancer\\nResearchers from McMaster University in Canada have reported that high-intensity focused... Marital Separation Impacts Cancer Survival\\nResearchers from the University of Indiana and the Fox Chase Cancer Center... 2009 Oncology Conference Coverage View up-to-date coverage of the 2009 Oncology Conference here.', 'general_descriptors': ['Informative tone', 'Clinical focus', 'Research-oriented', 'Health and wellness emphasis', 'Summary of medical studies', 'Mixed content structure', 'Short articles', 'Direct language', 'Professional audience', 'Educational content'], 'specific_descriptors': ['Two-step immunotherapy approach', 'Clinically beneficial responses', 'Lifestyle recommendations', '20 percent reduced risk of cancer death', 'UCSF social networking site', 'Genomic test for prostate cancer', 'Oncotype DX® Prostate Cancer Test', 'Statins linked to liver cancer risk', 'Radioimmunotherapy (RIT)', 'Overview of urinary incontinence', 'Living wills and advanced directives', 'Definition of caregivers', 'Chemotherapy risks for older patients', 'Complementary therapies series', 'Clear and precise expression', 'Mohs surgery technique', 'Chemical disruption of hormones', 'College kids tackling cancer', 'Cooking with fruits and vegetables', 'Annual meeting of cancer experts', 'Bone fractures in breast cancer patients', 'High-intensity focused ultrasound', 'Marital separation and cancer survival', '2009 Oncology Conference coverage']} with <function quality_metric at 0x7ffd41bcc0d0> due to 'dict' object has no attribute 'inputs'.\n",
      "2024/11/28 12:21:35 ERROR dspy.teleprompt.bootstrap: Failed to run or to evaluate example {'document': '|Viewing Single Post From: Spoilers for the Week of February 11th|\\n|Lil||Feb 1 2013, 09:58 AM|\\nDon\\'t care about Chloe/Taniel/Jen-Jen. Don\\'t care about Sami, really, but hoping that we get some good \"SAMANTHA GENE!!\" Marlena Death-Stares out of it. And \"newfound\" feelings. Please. If only.\\nSTEFANO!! STEFANO, STEFANO, STEFANO!!!! :cheer:\\n|Spoilers for the Week of February 11th · DAYS: News, Spoilers & Discussion|', 'general_descriptors': ['Informal tone', 'Fan discussion', 'Weekly spoilers', 'Soap opera genre', 'Concise', 'Conversational language', 'Colloquial expressions', 'Cheerful enthusiasm', 'Emphasis on character names', 'Casual commentary', 'Speculative content'], 'specific_descriptors': ['Use of exclamation marks', 'Casual references to characters', 'Appeal for dialogue content', 'Indirect expressions of dislike', 'Mentions of specific character arcs', 'Choppy sentence structure', 'Use of emojis', \"Emphasis on Marlena's 'Death-Stares'\", \"Use of repetition with 'STEFANO'\", \"Time reference to 'February 11th'\"]} with <function quality_metric at 0x7ffd41bcc0d0> due to 'dict' object has no attribute 'inputs'.\n",
      "2024/11/28 12:21:35 ERROR dspy.teleprompt.bootstrap: Failed to run or to evaluate example {'document': '*sigh* Fundamentalist community, let me pass on some advice to you I learned from the atheistic community:\\nIf you have set yourself on fire, do not run.\\nOkay? Okay?? Please?\\nLook, D, you had two months to say to Harvard in private emails, \"Im sorry, I shouldnt have been using that animation in my paid presentations. I wont use it again. I really do like \\'Inner Life\\', though, and would love to use it in classroom presentations, from the BioVisions site, if that is acceptable.\"\\nI sat here, for two months, waiting for that to happen, anything to happen, and it didnt. Two months, on your own terms, you could have written a similar post to yesterdays. I would have given you the benefit of the doubt-- maybe you didnt know the credits werent visible to the audience, and I wouldnt have said a word beyond this, as its Harvards problem, not mine. This would have been a funny joke to those of us involved in dealing with you people, but it would have been a PR non-issue for you.\\nBut after you set yourself on fire, you didnt douse it out with a bucket of ice cold reality and accountability. You ran. And youre still running.\\nWhy not just state \"I screwed up. Sorry everyone.\" and move on? Why the excuses? Why the denial? Why the passive language? Why the vague words and cryptic capitalizations? Why the writes and rewrites of your \\'press release\\'? We know it wasnt written of your own volition, or it would have been done *before* Harvard had to take action. And, your behavior before this, regarding this issue, is not indicative of someone who made an innocent mistake. Its weird.\\nSo what with this frantic running? Is the inability to say \"I was wrong\" a pathological feature of Creationists? Or are you hiding something? Or is it both? Or is it more?\\nAnd now we get Casey weighing in on the issue, according to cre8id at AboveTopSecret.com-- PBS/NOVA online - Intelligent Design on trial:\\n...to my knowledge, Discovery Institute has neither authorized nor received nor is making use of any presentation that used that animation. We have had nothing to do with creating or selling a DVD of that animation, nor do we have anything to do with placing that presentation on Google Video.I dont know what he is talking about with that last part, but the first part sounds similar to DIs claims post-Dover (\"WE HAD NOTHING TO DO WITH DOVER!\"). Maybe Luskin is telling the truth. Maybe this was a magic non-science Creation-friendly narration with convenient edits that AiG or ICR would have killed for... but only Dembski could find it... but he cant tell us where... and he didnt share it with anyone... and its subsequently disappeared from the Internet...\\nBut that simply isnt what Ive been told. Maybe this was all a silly Dembski mistake, blown out of proportion due to his decision to remain silent... But what if we find more videos of more DI fellows, presenting this animation?\\n*shrug* If youve set yourself on fire, do not run, DI. If youve done it, better admit it to Harvard now, apologize, and move on.', 'general_descriptors': ['Informal tone', 'Critical analysis', 'Personal advice', 'Confrontational style', 'Lengthy commentary', 'Casual language', 'Conversational structure', 'Reflective', 'Direct address', 'Frustration expressed', 'Speculative questioning', 'Skeptical', 'Engaged audience', 'Accountability emphasis', 'Discourse on integrity'], 'specific_descriptors': ['*Sigh*', 'Fundamentalist community', 'Atheistic community', 'Set yourself on fire', 'Do not run', 'Private emails', 'I’m sorry', 'I shouldn’t have been using that animation', 'Paid presentations', 'Two months', 'Benefit of the doubt', 'PR non-issue', 'Douse it out with a bucket of ice cold reality', 'Still running', \"State 'I screwed up. Sorry everyone.'\", 'Why the excuses?', 'Why the denial?', 'Why the passive language?', 'Vague words and cryptic capitalizations', 'Press release', 'Written of your own volition', 'Behavior indicative of someone who made an innocent mistake', 'Frantic running', 'Pathological feature of Creationists', 'Hiding something', 'Discovery Institute', 'Authorized nor received', 'Making use of any presentation', 'What he is talking about', 'Claims post-Dover', 'WE HAD NOTHING TO DO WITH DOVER!', 'Magic non-science Creation-friendly narration', 'Subsequently disappeared from the Internet', 'Silly Dembski mistake', 'Blown out of proportion', 'Presenting this animation', \"If you've set yourself on fire, do not run, DI\", 'Better admit it to Harvard now, apologize, and move on']} with <function quality_metric at 0x7ffd41bcc0d0> due to 'dict' object has no attribute 'inputs'.\n",
      "100%|██████████| 4/4 [00:00<00:00, 2105.57it/s]\n",
      "2024/11/28 12:21:35 INFO dspy.teleprompt.mipro_optimizer_v2: \n",
      "==> STEP 2: PROPOSE INSTRUCTION CANDIDATES <==\n",
      "2024/11/28 12:21:35 INFO dspy.teleprompt.mipro_optimizer_v2: We will use the few-shot examples from the previous step, a generated dataset summary, a summary of the program code, and a randomly selected prompting tip to propose instructions.\n",
      "2024/11/28 12:21:35 INFO dspy.teleprompt.mipro_optimizer_v2: \n",
      "Proposing instructions...\n",
      "\n"
     ]
    },
    {
     "name": "stdout",
     "output_type": "stream",
     "text": [
      "Bootstrapped 0 full traces after 3 examples for up to 1 rounds, amounting to 4 attempts.\n"
     ]
    },
    {
     "name": "stderr",
     "output_type": "stream",
     "text": [
      "2024/11/28 12:21:41 INFO dspy.teleprompt.mipro_optimizer_v2: Proposed Instructions for Predictor 0:\n",
      "\n",
      "2024/11/28 12:21:41 INFO dspy.teleprompt.mipro_optimizer_v2: 0: Given a document, generate both general and specific descriptors \n",
      "that facilitate rewriting the original document.\n",
      "\n",
      "2024/11/28 12:21:41 INFO dspy.teleprompt.mipro_optimizer_v2: 1: Imagine you are a content editor tasked with improving a community health article that has gone viral but needs refinement for clarity and engagement. Given the article as a document, generate both general and specific descriptors that will guide the rewriting process to enhance its emotional appeal and practical relevance for the audience.\n",
      "\n",
      "2024/11/28 12:21:41 INFO dspy.teleprompt.mipro_optimizer_v2: 2: Imagine you are a content editor tasked with improving a community health article that has gone viral but needs refinement for clarity and engagement. Given the article as a document, generate both general and specific descriptors that will guide the rewriting process to enhance its emotional appeal and practical relevance for the audience.\n",
      "\n",
      "2024/11/28 12:21:41 INFO dspy.teleprompt.mipro_optimizer_v2: 3: Analyze the provided document and generate a set of general descriptors that capture the overall themes and topics, as well as specific descriptors that highlight key details and elements within the text. This will aid in the process of rewriting the original document effectively.\n",
      "\n",
      "2024/11/28 12:21:41 INFO dspy.teleprompt.mipro_optimizer_v2: 4: You are a skilled editor tasked with analyzing a document. Given the content of the document, generate both general and specific descriptors that will help in rewriting the original document more effectively. Focus on capturing the tone, style, and key themes present in the text to ensure the new version resonates with the intended audience.\n",
      "\n",
      "2024/11/28 12:21:41 INFO dspy.teleprompt.mipro_optimizer_v2: \n",
      "\n",
      "2024/11/28 12:21:41 INFO dspy.teleprompt.mipro_optimizer_v2: Evaluating the default program...\n",
      "\n"
     ]
    },
    {
     "name": "stdout",
     "output_type": "stream",
     "text": [
      "Average Metric: 0.00 / 16 (0.0%): 100%|██████████| 16/16 [00:00<00:00, 2141.04it/s]"
     ]
    },
    {
     "name": "stderr",
     "output_type": "stream",
     "text": [
      "2024/11/28 12:21:41 INFO dspy.evaluate.evaluate: Average Metric: 0.0 / 16 (0.0%)\n",
      "2024/11/28 12:21:41 INFO dspy.teleprompt.mipro_optimizer_v2: Default program score: 0.0\n",
      "\n",
      "2024/11/28 12:21:41 INFO dspy.teleprompt.mipro_optimizer_v2: ==> STEP 3: FINDING OPTIMAL PROMPT PARAMETERS <==\n",
      "2024/11/28 12:21:41 INFO dspy.teleprompt.mipro_optimizer_v2: We will evaluate the program over a series of trials with different combinations of instructions and few-shot examples to find the optimal combination using Bayesian Optimization.\n",
      "\n",
      "/projappl/project_2011109/otto_venv/lib64/python3.9/site-packages/optuna/_experimental.py:30: ExperimentalWarning: Argument ``multivariate`` is an experimental feature. The interface can change in the future.\n",
      "  warnings.warn(\n",
      "2024/11/28 12:21:41 INFO dspy.teleprompt.mipro_optimizer_v2: ===== Trial 1 / 7 =====\n"
     ]
    },
    {
     "name": "stdout",
     "output_type": "stream",
     "text": [
      "\n",
      "Average Metric: 0.00 / 16 (0.0%): 100%|██████████| 16/16 [00:00<00:00, 2664.74it/s]"
     ]
    },
    {
     "name": "stderr",
     "output_type": "stream",
     "text": [
      "2024/11/28 12:21:41 INFO dspy.evaluate.evaluate: Average Metric: 0.0 / 16 (0.0%)\n",
      "2024/11/28 12:21:41 INFO dspy.teleprompt.mipro_optimizer_v2: Score: 0.0 with parameters ['Predictor 0: Instruction 1', 'Predictor 0: Few-Shot Set 1'].\n",
      "2024/11/28 12:21:41 INFO dspy.teleprompt.mipro_optimizer_v2: Scores so far: [0.0, 0.0]\n",
      "2024/11/28 12:21:41 INFO dspy.teleprompt.mipro_optimizer_v2: Best score so far: 0.0\n",
      "2024/11/28 12:21:41 INFO dspy.teleprompt.mipro_optimizer_v2: =======================\n",
      "\n",
      "\n",
      "2024/11/28 12:21:41 INFO dspy.teleprompt.mipro_optimizer_v2: ===== Trial 2 / 7 =====\n"
     ]
    },
    {
     "name": "stdout",
     "output_type": "stream",
     "text": [
      "\n",
      "Average Metric: 0.00 / 16 (0.0%): 100%|██████████| 16/16 [00:00<00:00, 3075.85it/s]"
     ]
    },
    {
     "name": "stderr",
     "output_type": "stream",
     "text": [
      "2024/11/28 12:21:41 INFO dspy.evaluate.evaluate: Average Metric: 0.0 / 16 (0.0%)\n",
      "2024/11/28 12:21:41 INFO dspy.teleprompt.mipro_optimizer_v2: Score: 0.0 with parameters ['Predictor 0: Instruction 2', 'Predictor 0: Few-Shot Set 1'].\n",
      "2024/11/28 12:21:41 INFO dspy.teleprompt.mipro_optimizer_v2: Scores so far: [0.0, 0.0, 0.0]\n",
      "2024/11/28 12:21:41 INFO dspy.teleprompt.mipro_optimizer_v2: Best score so far: 0.0\n",
      "2024/11/28 12:21:41 INFO dspy.teleprompt.mipro_optimizer_v2: =======================\n",
      "\n",
      "\n",
      "2024/11/28 12:21:41 INFO dspy.teleprompt.mipro_optimizer_v2: ===== Trial 3 / 7 =====\n"
     ]
    },
    {
     "name": "stdout",
     "output_type": "stream",
     "text": [
      "\n",
      "Average Metric: 0.00 / 16 (0.0%): 100%|██████████| 16/16 [00:00<00:00, 3177.80it/s]"
     ]
    },
    {
     "name": "stderr",
     "output_type": "stream",
     "text": [
      "2024/11/28 12:21:41 INFO dspy.evaluate.evaluate: Average Metric: 0.0 / 16 (0.0%)\n",
      "2024/11/28 12:21:41 INFO dspy.teleprompt.mipro_optimizer_v2: Score: 0.0 with parameters ['Predictor 0: Instruction 4', 'Predictor 0: Few-Shot Set 1'].\n",
      "2024/11/28 12:21:41 INFO dspy.teleprompt.mipro_optimizer_v2: Scores so far: [0.0, 0.0, 0.0, 0.0]\n",
      "2024/11/28 12:21:41 INFO dspy.teleprompt.mipro_optimizer_v2: Best score so far: 0.0\n",
      "2024/11/28 12:21:41 INFO dspy.teleprompt.mipro_optimizer_v2: =======================\n",
      "\n",
      "\n",
      "2024/11/28 12:21:41 INFO dspy.teleprompt.mipro_optimizer_v2: ===== Trial 4 / 7 =====\n"
     ]
    },
    {
     "name": "stdout",
     "output_type": "stream",
     "text": [
      "\n",
      "Average Metric: 0.00 / 16 (0.0%): 100%|██████████| 16/16 [00:00<00:00, 3178.86it/s]"
     ]
    },
    {
     "name": "stderr",
     "output_type": "stream",
     "text": [
      "2024/11/28 12:21:41 INFO dspy.evaluate.evaluate: Average Metric: 0.0 / 16 (0.0%)\n",
      "2024/11/28 12:21:41 INFO dspy.teleprompt.mipro_optimizer_v2: Score: 0.0 with parameters ['Predictor 0: Instruction 2', 'Predictor 0: Few-Shot Set 1'].\n",
      "2024/11/28 12:21:41 INFO dspy.teleprompt.mipro_optimizer_v2: Scores so far: [0.0, 0.0, 0.0, 0.0, 0.0]\n",
      "2024/11/28 12:21:41 INFO dspy.teleprompt.mipro_optimizer_v2: Best score so far: 0.0\n",
      "2024/11/28 12:21:41 INFO dspy.teleprompt.mipro_optimizer_v2: =======================\n",
      "\n",
      "\n",
      "2024/11/28 12:21:41 INFO dspy.teleprompt.mipro_optimizer_v2: ===== Trial 5 / 7 =====\n"
     ]
    },
    {
     "name": "stdout",
     "output_type": "stream",
     "text": [
      "\n",
      "Average Metric: 0.00 / 16 (0.0%): 100%|██████████| 16/16 [00:00<00:00, 3183.23it/s]"
     ]
    },
    {
     "name": "stderr",
     "output_type": "stream",
     "text": [
      "2024/11/28 12:21:41 INFO dspy.evaluate.evaluate: Average Metric: 0.0 / 16 (0.0%)\n",
      "2024/11/28 12:21:41 INFO dspy.teleprompt.mipro_optimizer_v2: Score: 0.0 with parameters ['Predictor 0: Instruction 4', 'Predictor 0: Few-Shot Set 3'].\n",
      "2024/11/28 12:21:41 INFO dspy.teleprompt.mipro_optimizer_v2: Scores so far: [0.0, 0.0, 0.0, 0.0, 0.0, 0.0]\n",
      "2024/11/28 12:21:41 INFO dspy.teleprompt.mipro_optimizer_v2: Best score so far: 0.0\n",
      "2024/11/28 12:21:41 INFO dspy.teleprompt.mipro_optimizer_v2: =======================\n",
      "\n",
      "\n",
      "2024/11/28 12:21:41 INFO dspy.teleprompt.mipro_optimizer_v2: ===== Trial 6 / 7 =====\n"
     ]
    },
    {
     "name": "stdout",
     "output_type": "stream",
     "text": [
      "\n",
      "Average Metric: 0.00 / 16 (0.0%): 100%|██████████| 16/16 [00:00<00:00, 3183.53it/s]"
     ]
    },
    {
     "name": "stderr",
     "output_type": "stream",
     "text": [
      "2024/11/28 12:21:41 INFO dspy.evaluate.evaluate: Average Metric: 0.0 / 16 (0.0%)\n",
      "2024/11/28 12:21:41 INFO dspy.teleprompt.mipro_optimizer_v2: Score: 0.0 with parameters ['Predictor 0: Instruction 0', 'Predictor 0: Few-Shot Set 1'].\n",
      "2024/11/28 12:21:41 INFO dspy.teleprompt.mipro_optimizer_v2: Scores so far: [0.0, 0.0, 0.0, 0.0, 0.0, 0.0, 0.0]\n",
      "2024/11/28 12:21:41 INFO dspy.teleprompt.mipro_optimizer_v2: Best score so far: 0.0\n",
      "2024/11/28 12:21:41 INFO dspy.teleprompt.mipro_optimizer_v2: =======================\n",
      "\n",
      "\n",
      "2024/11/28 12:21:41 INFO dspy.teleprompt.mipro_optimizer_v2: ===== Trial 7 / 7 =====\n"
     ]
    },
    {
     "name": "stdout",
     "output_type": "stream",
     "text": [
      "\n",
      "Average Metric: 0.00 / 16 (0.0%): 100%|██████████| 16/16 [00:00<00:00, 3183.38it/s]"
     ]
    },
    {
     "name": "stderr",
     "output_type": "stream",
     "text": [
      "2024/11/28 12:21:41 INFO dspy.evaluate.evaluate: Average Metric: 0.0 / 16 (0.0%)\n",
      "2024/11/28 12:21:41 INFO dspy.teleprompt.mipro_optimizer_v2: Score: 0.0 with parameters ['Predictor 0: Instruction 4', 'Predictor 0: Few-Shot Set 4'].\n",
      "2024/11/28 12:21:41 INFO dspy.teleprompt.mipro_optimizer_v2: Scores so far: [0.0, 0.0, 0.0, 0.0, 0.0, 0.0, 0.0, 0.0]\n",
      "2024/11/28 12:21:41 INFO dspy.teleprompt.mipro_optimizer_v2: Best score so far: 0.0\n",
      "2024/11/28 12:21:41 INFO dspy.teleprompt.mipro_optimizer_v2: =======================\n",
      "\n",
      "\n",
      "2024/11/28 12:21:41 INFO dspy.teleprompt.mipro_optimizer_v2: Returning best identified program with score 0.0!\n"
     ]
    },
    {
     "name": "stdout",
     "output_type": "stream",
     "text": [
      "\n"
     ]
    },
    {
     "ename": "AttributeError",
     "evalue": "'Prediction' object has no attribute 'keywords'",
     "output_type": "error",
     "traceback": [
      "\u001b[0;31m---------------------------------------------------------------------------\u001b[0m",
      "\u001b[0;31mAttributeError\u001b[0m                            Traceback (most recent call last)",
      "Cell \u001b[0;32mIn[3], line 100\u001b[0m\n\u001b[1;32m     83\u001b[0m document \u001b[38;5;241m=\u001b[39m \u001b[38;5;124m\"\"\"\u001b[39m\n\u001b[1;32m     84\u001b[0m \u001b[38;5;124mTammy Faye, the musical created by Elton John, James Graham and Scissor Sisters’ Jake Shears, is to close on Broadway less than a month after its opening night.\u001b[39m\n\u001b[1;32m     85\u001b[0m \n\u001b[0;32m   (...)\u001b[0m\n\u001b[1;32m     96\u001b[0m \u001b[38;5;124mJohn’s musical version of The Devil Wears Prada, starring Vanessa Williams, is now at the Dominion theatre in London. Graham’s new play, Punch, transfers from Nottingham Playhouse to the Young Vic in London in March.\u001b[39m\n\u001b[1;32m     97\u001b[0m \u001b[38;5;124m\"\"\"\u001b[39m\n\u001b[1;32m     98\u001b[0m response \u001b[38;5;241m=\u001b[39m optimized_description_generator(document\u001b[38;5;241m=\u001b[39mdocument)\n\u001b[0;32m--> 100\u001b[0m \u001b[38;5;28mprint\u001b[39m(\u001b[43mresponse\u001b[49m\u001b[38;5;241;43m.\u001b[39;49m\u001b[43mkeywords\u001b[49m)\n",
      "File \u001b[0;32m/projappl/project_2011109/otto_venv/lib64/python3.9/site-packages/dspy/primitives/example.py:24\u001b[0m, in \u001b[0;36mExample.__getattr__\u001b[0;34m(self, key)\u001b[0m\n\u001b[1;32m     22\u001b[0m \u001b[38;5;28;01mif\u001b[39;00m key \u001b[38;5;129;01min\u001b[39;00m \u001b[38;5;28mself\u001b[39m\u001b[38;5;241m.\u001b[39m_store:\n\u001b[1;32m     23\u001b[0m     \u001b[38;5;28;01mreturn\u001b[39;00m \u001b[38;5;28mself\u001b[39m\u001b[38;5;241m.\u001b[39m_store[key]\n\u001b[0;32m---> 24\u001b[0m \u001b[38;5;28;01mraise\u001b[39;00m \u001b[38;5;167;01mAttributeError\u001b[39;00m(\u001b[38;5;124mf\u001b[39m\u001b[38;5;124m\"\u001b[39m\u001b[38;5;124m'\u001b[39m\u001b[38;5;132;01m{\u001b[39;00m\u001b[38;5;28mtype\u001b[39m(\u001b[38;5;28mself\u001b[39m)\u001b[38;5;241m.\u001b[39m\u001b[38;5;18m__name__\u001b[39m\u001b[38;5;132;01m}\u001b[39;00m\u001b[38;5;124m'\u001b[39m\u001b[38;5;124m object has no attribute \u001b[39m\u001b[38;5;124m'\u001b[39m\u001b[38;5;132;01m{\u001b[39;00mkey\u001b[38;5;132;01m}\u001b[39;00m\u001b[38;5;124m'\u001b[39m\u001b[38;5;124m\"\u001b[39m)\n",
      "\u001b[0;31mAttributeError\u001b[0m: 'Prediction' object has no attribute 'keywords'"
     ]
    }
   ],
   "source": [
    "# Define a signature for the task\n",
    "class DescriptorGeneration(dspy.Signature):\n",
    "    \"\"\"Given a document, generate both general and specific descriptors \n",
    "    that facilitate rewriting the original document.\"\"\"\n",
    "    document: str = dspy.InputField()\n",
    "    general_descriptors: list[str] = dspy.OutputField()\n",
    "    specific_descriptors: list[str] = dspy.OutputField()\n",
    "\n",
    "# Create a module using the signature\n",
    "description_generator = dspy.Predict(DescriptorGeneration)\n",
    "\n",
    "def label_f1_score(true_labels, pred_labels):\n",
    "    true_set = set(true_labels)\n",
    "    pred_set = set(pred_labels)\n",
    "    \n",
    "    # Calculate true positives, precision, and recall\n",
    "    true_positives = len(true_set & pred_set)\n",
    "    precision = true_positives / len(pred_set) if pred_set else 0\n",
    "    recall = true_positives / len(true_set) if true_set else 0\n",
    "    \n",
    "    # Calculate F1 score\n",
    "    if precision + recall == 0:\n",
    "        return 0.0\n",
    "    f1 = 2 * (precision * recall) / (precision + recall)\n",
    "    return f1\n",
    "\n",
    "\n",
    "class ModelAsJudge(dspy.Signature):\n",
    "    \"\"\"Judge how well the descriptors together summarize all possible aspects of the document.\"\"\"\n",
    "\n",
    "    document = dspy.InputField(desc=\"The original document\")\n",
    "    general_descriptors = dspy.InputField(desc=\"General descriptors should describe the document on a general level\")\n",
    "    specific_descriptors = dspy.InputField(desc=\"Specific descriptors should describe more minute details of the document.\")\n",
    "    quality = dspy.OutputField(desc=\"Do the descriptors cover all possible aspects of the given document? Answer on a scale from 1-5, where 5 is best\", prefix=\"Rating[1-5]:\")\n",
    "\n",
    "judge = dspy.ChainOfThought(ModelAsJudge)\n",
    "\n",
    "def quality_metric(example, pred):\n",
    "    quality = judge(document=example.document,\n",
    "                    general_descriptors=pred.general_descriptors,\n",
    "                    specific_descriptors=pred.specific_descriptors\n",
    "                   )\n",
    "    return int(quality)\n",
    "\n",
    "\n",
    "# Initialize the optimizer\n",
    "optimizer = MIPROv2(\n",
    "    metric=quality_metric,\n",
    "    auto=\"light\",  # Choose between light, medium, and heavy optimization runs\n",
    "    num_threads=4,\n",
    "    max_bootstrapped_demos=0, # ZERO FEW-SHOT EXAMPLES\n",
    "    max_labeled_demos=0 # ZERO FEW-SHOT EXAMPLES\n",
    ")\n",
    "\n",
    "# Define your training data\n",
    "with open('../results/descriptors_test2.jsonl', 'r') as f:\n",
    "    file = []\n",
    "    lines = f.readlines()\n",
    "    for line in lines:\n",
    "        file.append(json.loads(line))\n",
    "\n",
    "train_data = []\n",
    "for doc in file:\n",
    "    train_data.append(\n",
    "        {'document': doc['document'],\n",
    "         'general_descriptors': doc['general_descriptors'],\n",
    "         'specific_descriptors': doc['specific_descriptors'],\n",
    "        }\n",
    "    )\n",
    "\n",
    "# Convert the training data into a list of dspy.Example objects\n",
    "trainset = [dspy.Example(**data).with_inputs('document') for data in train_data]\n",
    "\n",
    "# Compile the optimized program\n",
    "optimized_description_generator = optimizer.compile(\n",
    "    description_generator,\n",
    "    trainset=train_data,\n",
    "    max_bootstrapped_demos=3,\n",
    "    max_labeled_demos=4\n",
    ")\n",
    "\n",
    "# Example usage\n",
    "document = \"\"\"\n",
    "Tammy Faye, the musical created by Elton John, James Graham and Scissor Sisters’ Jake Shears, is to close on Broadway less than a month after its opening night.\n",
    "\n",
    "The show about the eponymous TV evangelist sold out at London’s Almeida theatre in 2022, received rave reviews and was nominated for best new musical at the Olivier awards the following year. But on Tuesday it was announced that it will have its final curtain at the Palace theatre in New York on 8 December. That will be its 29th performance; the musical also had 24 previews before opening.\n",
    "\n",
    "This month, the show has failed to fill more than two-thirds of its audience capacity. In the week ending 17 November, it drew a gross of $374,371 with an overall attendance of 5,732 (63% of capacity). New York’s critics were less impressed than London’s by the Rupert Goold production. In her review, the New York Times’s Elisabeth Vincentelli called Tammy Faye “strangely bland” considering its larger-than-life subject matter. Variety’s Frank Rizzo said it was a “misguided West End import”.\n",
    "Tammy Faye: A New Musical review – Elton John’s hymn to biblical kitsch\n",
    "Read more\n",
    "\n",
    "Katie Brayben has made her Broadway debut reprising her Olivier award-winning role as Faye, this time opposite Christian Borle as Faye’s first husband and TV co-star, Jim Bakker. The married evangelists found fame in the 1970s through their television network, PTL (Praise the Lord). Faye was known for her singing voice, abundant emotion and extravagant makeup; a 2021 biopic starring Jessica Chastain was called The Eyes of Tammy Faye.\n",
    "\n",
    "The musical charts her rise to fame, a series of scandals and the backlash against her advocacy for gay rights. In 1985, Faye raised awareness of HIV and Aids through a famous interview with Steve Pieters, a gay church pastor living with HIV. “She won me over when she did that,” Elton John told ABC News last month. Her allyship was “pretty remarkable for someone in the religious community,” John added.\n",
    "\n",
    "John’s musical version of The Devil Wears Prada, starring Vanessa Williams, is now at the Dominion theatre in London. Graham’s new play, Punch, transfers from Nottingham Playhouse to the Young Vic in London in March.\n",
    "\"\"\"\n",
    "response = optimized_description_generator(document=document)\n",
    "\n",
    "print(response.keywords)\n"
   ]
  },
  {
   "cell_type": "code",
   "execution_count": 12,
   "id": "45f99f9b-c416-4eeb-8549-9b36930ea0a5",
   "metadata": {},
   "outputs": [
    {
     "data": {
      "text/plain": [
       "Example({'document': '|Viewing Single Post From: Spoilers for the Week of February 11th|\\n|Lil||Feb 1 2013, 09:58 AM|\\nDon\\'t care about Chloe/Taniel/Jen-Jen. Don\\'t care about Sami, really, but hoping that we get some good \"SAMANTHA GENE!!\" Marlena Death-Stares out of it. And \"newfound\" feelings. Please. If only.\\nSTEFANO!! STEFANO, STEFANO, STEFANO!!!! :cheer:\\n|Spoilers for the Week of February 11th · DAYS: News, Spoilers & Discussion|', 'general_descriptors': ['Informal tone', 'Fan discussion', 'Weekly spoilers', 'Soap opera genre', 'Concise', 'Conversational language', 'Colloquial expressions', 'Cheerful enthusiasm', 'Emphasis on character names', 'Casual commentary', 'Speculative content'], 'specific_descriptors': ['Use of exclamation marks', 'Casual references to characters', 'Appeal for dialogue content', 'Indirect expressions of dislike', 'Mentions of specific character arcs', 'Choppy sentence structure', 'Use of emojis', \"Emphasis on Marlena's 'Death-Stares'\", \"Use of repetition with 'STEFANO'\", \"Time reference to 'February 11th'\"]}) (input_keys={'document'})"
      ]
     },
     "execution_count": 12,
     "metadata": {},
     "output_type": "execute_result"
    }
   ],
   "source": [
    "# Define your training data\n",
    "with open('../results/descriptors_test2.jsonl', 'r') as f:\n",
    "    file = []\n",
    "    lines = f.readlines()\n",
    "    for line in lines:\n",
    "        file.append(json.loads(line))\n",
    "\n",
    "train_data = []\n",
    "for doc in file:\n",
    "    train_data.append(\n",
    "        {'document': doc['document'],\n",
    "         'general_descriptors': doc['general_descriptors'],\n",
    "         'specific_descriptors': doc['specific_descriptors'],\n",
    "        }\n",
    "    )\n",
    "\n",
    "# Convert the training data into a list of dspy.Example objects\n",
    "trainset = [dspy.Example(**data).with_inputs('document') for data in train_data]\n",
    "\n",
    "trainset[0]"
   ]
  },
  {
   "cell_type": "raw",
   "id": "20ac0b45-8c74-467d-9c3e-97b96d469ccf",
   "metadata": {},
   "source": []
  },
  {
   "cell_type": "code",
   "execution_count": 9,
   "id": "cdca34e1-955e-4c6e-835e-6037bf3138f7",
   "metadata": {},
   "outputs": [
    {
     "data": {
      "text/plain": [
       "Prediction(\n",
       "    general_descriptors=['theatrical production', 'musical', 'Broadway show', 'cultural commentary', 'entertainment news'],\n",
       "    specific_descriptors=['Tammy Faye musical', 'Elton John', 'James Graham', 'Scissor Sisters', 'closing announcement', 'Palace theatre', 'audience capacity', 'New York critics', 'Katie Brayben', 'Christian Borle', 'PTL network', 'HIV awareness', 'gay rights advocacy', 'biopic', 'Olivier awards', 'Rupert Goold production']\n",
       ")"
      ]
     },
     "execution_count": 9,
     "metadata": {},
     "output_type": "execute_result"
    }
   ],
   "source": [
    "response"
   ]
  },
  {
   "cell_type": "code",
   "execution_count": 10,
   "id": "b8afb311-b88d-43b3-8213-111b81af9965",
   "metadata": {},
   "outputs": [
    {
     "data": {
      "text/plain": [
       "Predict(DescriptorGenaration(document -> general_descriptors, specific_descriptors\n",
       "    instructions='Generate genreal and specific descriptors for a given document.'\n",
       "    document = Field(annotation=str required=True json_schema_extra={'__dspy_field_type': 'input', 'prefix': 'Document:', 'desc': '${document}'})\n",
       "    general_descriptors = Field(annotation=list[str] required=True json_schema_extra={'__dspy_field_type': 'output', 'prefix': 'General Descriptors:', 'desc': '${general_descriptors}'})\n",
       "    specific_descriptors = Field(annotation=list[str] required=True json_schema_extra={'__dspy_field_type': 'output', 'prefix': 'Specific Descriptors:', 'desc': '${specific_descriptors}'})\n",
       "))"
      ]
     },
     "execution_count": 10,
     "metadata": {},
     "output_type": "execute_result"
    }
   ],
   "source": [
    "optimized_description_generator"
   ]
  },
  {
   "cell_type": "code",
   "execution_count": 11,
   "id": "386e1c80-eb71-4965-85e2-9d41e9bdd6d5",
   "metadata": {},
   "outputs": [
    {
     "ename": "AttributeError",
     "evalue": "'Predict' object has no attribute 'prompt'",
     "output_type": "error",
     "traceback": [
      "\u001b[0;31m---------------------------------------------------------------------------\u001b[0m",
      "\u001b[0;31mAttributeError\u001b[0m                            Traceback (most recent call last)",
      "Cell \u001b[0;32mIn[11], line 1\u001b[0m\n\u001b[0;32m----> 1\u001b[0m \u001b[43moptimized_description_generator\u001b[49m\u001b[38;5;241;43m.\u001b[39;49m\u001b[43mprompt\u001b[49m\n",
      "\u001b[0;31mAttributeError\u001b[0m: 'Predict' object has no attribute 'prompt'"
     ]
    }
   ],
   "source": [
    "optimized_description_generator.prompt"
   ]
  }
 ],
 "metadata": {
  "kernelspec": {
   "display_name": "Python 3 (venv)",
   "language": "python",
   "name": "python3"
  },
  "language_info": {
   "codemirror_mode": {
    "name": "ipython",
    "version": 3
   },
   "file_extension": ".py",
   "mimetype": "text/x-python",
   "name": "python",
   "nbconvert_exporter": "python",
   "pygments_lexer": "ipython3",
   "version": "3.9.18"
  }
 },
 "nbformat": 4,
 "nbformat_minor": 5
}
