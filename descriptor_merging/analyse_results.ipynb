{
 "cells": [
  {
   "cell_type": "code",
   "execution_count": 2,
   "id": "468c60e7-3b0a-4141-8620-23dc75d6ce76",
   "metadata": {},
   "outputs": [],
   "source": [
    "import json\n",
    "from pathlib import Path\n",
    "from sqlitedict import SqliteDict\n",
    "import pandas as pd\n",
    "from tqdm import tqdm"
   ]
  },
  {
   "cell_type": "code",
   "execution_count": 2,
   "id": "1ed28379-0d31-4b71-8367-6eb364672fb0",
   "metadata": {},
   "outputs": [],
   "source": [
    "path = Path(\"../data/faiss/mahti2/merge_log.jsonl\")\n",
    "\n",
    "with path.open() as f:\n",
    "    lines = []\n",
    "    for line in f:\n",
    "        lines.append(json.loads(line))"
   ]
  },
  {
   "cell_type": "code",
   "execution_count": 3,
   "id": "ef4a5ac7-2462-461f-939b-c45a845f7e68",
   "metadata": {},
   "outputs": [
    {
     "name": "stderr",
     "output_type": "stream",
     "text": [
      "362521it [02:34, 2352.90it/s]\n"
     ]
    }
   ],
   "source": [
    "path = Path(\"../data/faiss/mahti2/merge_results.jsonl\")\n",
    "\n",
    "with path.open() as f:\n",
    "    lines = []\n",
    "    for line in tqdm(f):\n",
    "        lines.append(json.loads(line)[\"descriptor\"])"
   ]
  },
  {
   "cell_type": "code",
   "execution_count": 6,
   "id": "7902be44-8696-4f55-9e8b-e656b9a5072f",
   "metadata": {},
   "outputs": [
    {
     "name": "stdout",
     "output_type": "stream",
     "text": [
      "295341\n",
      "0.8146865974660779\n"
     ]
    }
   ],
   "source": [
    "singletons = 0\n",
    "for line in lines:\n",
    "    if \"|M|\" not in line:\n",
    "        singletons += 1\n",
    "\n",
    "print(singletons)\n",
    "print(singletons/len(lines))"
   ]
  },
  {
   "cell_type": "code",
   "execution_count": 3,
   "id": "1a150370-1592-4465-8426-773b8d2a63a2",
   "metadata": {},
   "outputs": [],
   "source": [
    "iter20 = [line for line in lines if line[\"iteration\"] == 20]"
   ]
  },
  {
   "cell_type": "code",
   "execution_count": 4,
   "id": "119af27e-f5f0-439e-801d-7c261e23e354",
   "metadata": {},
   "outputs": [
    {
     "data": {
      "text/plain": [
       "{'iteration': 20,\n",
       " 'merged_ids': [8423, 91352],\n",
       " 'merged_descriptors': ['affordable: the document emphasizes the importance of affordability in dumpster rental services, with companies being expected to provide cost-effective solutions. this descriptor is significant as it acknowledges the budget constraints faced by customers and the need for companies to offer competitive pricing. affordable services are essential for making dumpster rental accessible to a wider range of customers and promoting sustainability.',\n",
       "  'customized: the document mentions the importance of customized services, with dumpster rental companies offering tailored solutions to meet the specific needs of their customers. this descriptor is relevant as it highlights the value of flexibility and adaptability in the industry. customized services allow companies to respond to the unique needs of their customers and provide more effective solutions.']}"
      ]
     },
     "execution_count": 4,
     "metadata": {},
     "output_type": "execute_result"
    }
   ],
   "source": [
    "iter20[100]"
   ]
  },
  {
   "cell_type": "code",
   "execution_count": null,
   "id": "2e1e36cf-7e20-4955-86cd-6f9be9bbc9c2",
   "metadata": {},
   "outputs": [
    {
     "name": "stdout",
     "output_type": "stream",
     "text": [
      "For iteration 0:\n",
      "Total descriptors: 998277\n",
      "All the same: 0\n",
      "Not all same: 0\n",
      "Unmerged: 998277\n",
      "For iteration 1:\n",
      "Total descriptors: 847763\n",
      "All the same: 93437\n",
      "Not all same: 57077\n",
      "Unmerged: 697249\n",
      "For iteration 2:\n",
      "Total descriptors: 776698\n",
      "All the same: 83925\n",
      "Not all same: 64522\n",
      "Unmerged: 628251\n",
      "For iteration 3:\n",
      "Total descriptors: 732693\n",
      "All the same: 74795\n",
      "Not all same: 65715\n",
      "Unmerged: 592183\n",
      "For iteration 4:\n",
      "Total descriptors: 701010\n",
      "All the same: 67889\n",
      "Not all same: 65429\n",
      "Unmerged: 567692\n",
      "For iteration 5:\n",
      "Total descriptors: 676080\n",
      "All the same: 62523\n",
      "Not all same: 64787\n",
      "Unmerged: 548770\n"
     ]
    }
   ],
   "source": [
    "string_level_duplicates = []\n",
    "non_duplicates = []\n",
    "not_merged = []\n",
    "total_descriptors = []\n",
    "for i in range(0,51):\n",
    "    all_the_same = 0\n",
    "    not_all_same = 0\n",
    "    unmerged = 0\n",
    "    with SqliteDict(f\"../data/faiss/mahti2/checkpoints/descriptors_iter{i}.sqlite\") as descriptor_db:\n",
    "        num_descriptors = len(descriptor_db)\n",
    "        for idx in descriptor_db:\n",
    "            if \"|M|\" in descriptor_db[idx]:\n",
    "                descriptors = descriptor_db[idx].split(\"|M|\")\n",
    "                descriptors = [desc.strip() for desc in descriptors]\n",
    "                descriptors = [desc.split(\":\") for desc in descriptors]\n",
    "                descriptors = [desc[0] for desc in descriptors]\n",
    "                if len(set(descriptors)) == 1:\n",
    "                    all_the_same += 1\n",
    "                else:\n",
    "                    not_all_same += 1\n",
    "            else:\n",
    "                unmerged += 1\n",
    "        \n",
    "\n",
    "    print(f\"For iteration {i}:\")\n",
    "    print(f\"Total descriptors: {num_descriptors}\")\n",
    "    print(f\"All the same: {all_the_same}\")\n",
    "    print(f\"Not all same: {not_all_same}\")\n",
    "    print(f\"Unmerged: {unmerged}\")\n",
    "    string_level_duplicates.append(all_the_same)\n",
    "    non_duplicates.append(not_all_same)\n",
    "    not_merged.append(unmerged)\n",
    "    total_descriptors.append(num_descriptors)"
   ]
  },
  {
   "cell_type": "code",
   "execution_count": 10,
   "id": "4bea34e2-2b62-484f-837f-eebece7cfa54",
   "metadata": {},
   "outputs": [],
   "source": [
    "not_merged = []\n",
    "for i in range(1,21):\n",
    "    with SqliteDict(f\"../data/faiss/mahti2/checkpoints/descriptors_iter{i}.sqlite\") as descriptor_db:\n",
    "        num_descriptors = len(descriptor_db)\n",
    "        not_merged.append(num_descriptors-string_level_duplicates[i-1]-non_duplicates[i-1])"
   ]
  },
  {
   "cell_type": "code",
   "execution_count": 18,
   "id": "99a1bc0a-3de0-4737-be63-1f0c644c750b",
   "metadata": {},
   "outputs": [
    {
     "data": {
      "text/plain": [
       "<Axes: >"
      ]
     },
     "execution_count": 18,
     "metadata": {},
     "output_type": "execute_result"
    },
    {
     "data": {
      "image/png": "[encoded data removed]",
      "text/plain": [
       "<Figure size 640x480 with 1 Axes>"
      ]
     },
     "metadata": {},
     "output_type": "display_data"
    }
   ],
   "source": [
    "df = pd.DataFrame(\n",
    "    {\"string_level_duplicates\": string_level_duplicates,\n",
    "     \"non_duplicates\": non_duplicates,\n",
    "     \"not_merged\": not_merged\n",
    "    }\n",
    ")\n",
    "\n",
    "df.plot.line()"
   ]
  },
  {
   "cell_type": "code",
   "execution_count": 6,
   "id": "d9b9358c-e116-49e5-811b-b4bb1da41bc9",
   "metadata": {},
   "outputs": [
    {
     "data": {
      "text/plain": [
       "497773"
      ]
     },
     "execution_count": 6,
     "metadata": {},
     "output_type": "execute_result"
    }
   ],
   "source": [
    "len(descriptor_db)"
   ]
  },
  {
   "cell_type": "code",
   "execution_count": 19,
   "id": "d2d9dac7-04f5-4924-a318-fcb23479bd64",
   "metadata": {},
   "outputs": [
    {
     "name": "stdout",
     "output_type": "stream",
     "text": [
      "67180\n",
      "3956\n",
      "10.46347127121167\n"
     ]
    }
   ],
   "source": [
    "num_merges = []\n",
    "with SqliteDict(f\"../data/faiss/mahti2/checkpoints/descriptors_iter50.sqlite\") as descriptor_db:\n",
    "    for idx in descriptor_db:\n",
    "        if \"|M|\" in descriptor_db[idx]:\n",
    "            descs = descriptor_db[idx].split(\"|M|\")\n",
    "            num_merges.append(len(descs))\n",
    "\n",
    "print(len(num_merges))\n",
    "print(max(num_merges))\n",
    "print(sum(num_merges)/len(num_merges))"
   ]
  },
  {
   "cell_type": "code",
   "execution_count": 8,
   "id": "597c597a-cb42-43af-938f-40a2507f70e3",
   "metadata": {},
   "outputs": [
    {
     "name": "stdout",
     "output_type": "stream",
     "text": [
      "020 8884 1166: the document provides a phone number for greenfields solicitors, making it 020 8884 1166. |M| greenfields solicitors: the text provides contact information for greenfields solicitors, making it greenfields solicitors.\n"
     ]
    }
   ],
   "source": [
    "for i in descriptor_db:\n",
    "    if \"|M|\" in descriptor_db[i]:\n",
    "        print(descriptor_db[i])\n",
    "        break"
   ]
  },
  {
   "cell_type": "code",
   "execution_count": 3,
   "id": "36119e66-2886-4c80-9249-f0991fcbd07f",
   "metadata": {},
   "outputs": [
    {
     "ename": "KeyboardInterrupt",
     "evalue": "",
     "output_type": "error",
     "traceback": [
      "\u001b[31m---------------------------------------------------------------------------\u001b[39m",
      "\u001b[31mKeyboardInterrupt\u001b[39m                         Traceback (most recent call last)",
      "\u001b[36mCell\u001b[39m\u001b[36m \u001b[39m\u001b[32mIn[3]\u001b[39m\u001b[32m, line 6\u001b[39m\n\u001b[32m      4\u001b[39m lines = []\n\u001b[32m      5\u001b[39m \u001b[38;5;28;01mfor\u001b[39;00m line \u001b[38;5;129;01min\u001b[39;00m f:\n\u001b[32m----> \u001b[39m\u001b[32m6\u001b[39m     lines.append(\u001b[43mjson\u001b[49m\u001b[43m.\u001b[49m\u001b[43mloads\u001b[49m\u001b[43m(\u001b[49m\u001b[43mline\u001b[49m\u001b[43m)\u001b[49m)\n",
      "\u001b[36mFile \u001b[39m\u001b[32m/usr/lib64/python3.12/json/__init__.py:346\u001b[39m, in \u001b[36mloads\u001b[39m\u001b[34m(s, cls, object_hook, parse_float, parse_int, parse_constant, object_pairs_hook, **kw)\u001b[39m\n\u001b[32m    341\u001b[39m     s = s.decode(detect_encoding(s), \u001b[33m'\u001b[39m\u001b[33msurrogatepass\u001b[39m\u001b[33m'\u001b[39m)\n\u001b[32m    343\u001b[39m \u001b[38;5;28;01mif\u001b[39;00m (\u001b[38;5;28mcls\u001b[39m \u001b[38;5;129;01mis\u001b[39;00m \u001b[38;5;28;01mNone\u001b[39;00m \u001b[38;5;129;01mand\u001b[39;00m object_hook \u001b[38;5;129;01mis\u001b[39;00m \u001b[38;5;28;01mNone\u001b[39;00m \u001b[38;5;129;01mand\u001b[39;00m\n\u001b[32m    344\u001b[39m         parse_int \u001b[38;5;129;01mis\u001b[39;00m \u001b[38;5;28;01mNone\u001b[39;00m \u001b[38;5;129;01mand\u001b[39;00m parse_float \u001b[38;5;129;01mis\u001b[39;00m \u001b[38;5;28;01mNone\u001b[39;00m \u001b[38;5;129;01mand\u001b[39;00m\n\u001b[32m    345\u001b[39m         parse_constant \u001b[38;5;129;01mis\u001b[39;00m \u001b[38;5;28;01mNone\u001b[39;00m \u001b[38;5;129;01mand\u001b[39;00m object_pairs_hook \u001b[38;5;129;01mis\u001b[39;00m \u001b[38;5;28;01mNone\u001b[39;00m \u001b[38;5;129;01mand\u001b[39;00m \u001b[38;5;129;01mnot\u001b[39;00m kw):\n\u001b[32m--> \u001b[39m\u001b[32m346\u001b[39m     \u001b[38;5;28;01mreturn\u001b[39;00m \u001b[43m_default_decoder\u001b[49m\u001b[43m.\u001b[49m\u001b[43mdecode\u001b[49m\u001b[43m(\u001b[49m\u001b[43ms\u001b[49m\u001b[43m)\u001b[49m\n\u001b[32m    347\u001b[39m \u001b[38;5;28;01mif\u001b[39;00m \u001b[38;5;28mcls\u001b[39m \u001b[38;5;129;01mis\u001b[39;00m \u001b[38;5;28;01mNone\u001b[39;00m:\n\u001b[32m    348\u001b[39m     \u001b[38;5;28mcls\u001b[39m = JSONDecoder\n",
      "\u001b[36mFile \u001b[39m\u001b[32m/usr/lib64/python3.12/json/decoder.py:338\u001b[39m, in \u001b[36mJSONDecoder.decode\u001b[39m\u001b[34m(self, s, _w)\u001b[39m\n\u001b[32m    333\u001b[39m \u001b[38;5;28;01mdef\u001b[39;00m\u001b[38;5;250m \u001b[39m\u001b[34mdecode\u001b[39m(\u001b[38;5;28mself\u001b[39m, s, _w=WHITESPACE.match):\n\u001b[32m    334\u001b[39m \u001b[38;5;250m    \u001b[39m\u001b[33;03m\"\"\"Return the Python representation of ``s`` (a ``str`` instance\u001b[39;00m\n\u001b[32m    335\u001b[39m \u001b[33;03m    containing a JSON document).\u001b[39;00m\n\u001b[32m    336\u001b[39m \n\u001b[32m    337\u001b[39m \u001b[33;03m    \"\"\"\u001b[39;00m\n\u001b[32m--> \u001b[39m\u001b[32m338\u001b[39m     obj, end = \u001b[38;5;28;43mself\u001b[39;49m\u001b[43m.\u001b[49m\u001b[43mraw_decode\u001b[49m\u001b[43m(\u001b[49m\u001b[43ms\u001b[49m\u001b[43m,\u001b[49m\u001b[43m \u001b[49m\u001b[43midx\u001b[49m\u001b[43m=\u001b[49m\u001b[43m_w\u001b[49m\u001b[43m(\u001b[49m\u001b[43ms\u001b[49m\u001b[43m,\u001b[49m\u001b[43m \u001b[49m\u001b[32;43m0\u001b[39;49m\u001b[43m)\u001b[49m\u001b[43m.\u001b[49m\u001b[43mend\u001b[49m\u001b[43m(\u001b[49m\u001b[43m)\u001b[49m\u001b[43m)\u001b[49m\n\u001b[32m    339\u001b[39m     end = _w(s, end).end()\n\u001b[32m    340\u001b[39m     \u001b[38;5;28;01mif\u001b[39;00m end != \u001b[38;5;28mlen\u001b[39m(s):\n",
      "\u001b[36mFile \u001b[39m\u001b[32m/usr/lib64/python3.12/json/decoder.py:354\u001b[39m, in \u001b[36mJSONDecoder.raw_decode\u001b[39m\u001b[34m(self, s, idx)\u001b[39m\n\u001b[32m    345\u001b[39m \u001b[38;5;250m\u001b[39m\u001b[33;03m\"\"\"Decode a JSON document from ``s`` (a ``str`` beginning with\u001b[39;00m\n\u001b[32m    346\u001b[39m \u001b[33;03ma JSON document) and return a 2-tuple of the Python\u001b[39;00m\n\u001b[32m    347\u001b[39m \u001b[33;03mrepresentation and the index in ``s`` where the document ended.\u001b[39;00m\n\u001b[32m   (...)\u001b[39m\u001b[32m    351\u001b[39m \n\u001b[32m    352\u001b[39m \u001b[33;03m\"\"\"\u001b[39;00m\n\u001b[32m    353\u001b[39m \u001b[38;5;28;01mtry\u001b[39;00m:\n\u001b[32m--> \u001b[39m\u001b[32m354\u001b[39m     obj, end = \u001b[38;5;28;43mself\u001b[39;49m\u001b[43m.\u001b[49m\u001b[43mscan_once\u001b[49m\u001b[43m(\u001b[49m\u001b[43ms\u001b[49m\u001b[43m,\u001b[49m\u001b[43m \u001b[49m\u001b[43midx\u001b[49m\u001b[43m)\u001b[49m\n\u001b[32m    355\u001b[39m \u001b[38;5;28;01mexcept\u001b[39;00m \u001b[38;5;167;01mStopIteration\u001b[39;00m \u001b[38;5;28;01mas\u001b[39;00m err:\n\u001b[32m    356\u001b[39m     \u001b[38;5;28;01mraise\u001b[39;00m JSONDecodeError(\u001b[33m\"\u001b[39m\u001b[33mExpecting value\u001b[39m\u001b[33m\"\u001b[39m, s, err.value) \u001b[38;5;28;01mfrom\u001b[39;00m\u001b[38;5;250m \u001b[39m\u001b[38;5;28;01mNone\u001b[39;00m\n",
      "\u001b[31mKeyboardInterrupt\u001b[39m: "
     ]
    }
   ],
   "source": [
    "path = Path(\"../data/faiss/mahti2/merge_results.jsonl\")\n",
    "\n",
    "with path.open() as f:\n",
    "    lines = []\n",
    "    for line in f:\n",
    "        lines.append(json.loads(line))"
   ]
  },
  {
   "cell_type": "code",
   "execution_count": null,
   "id": "712075e3-734a-47ae-bc13-2751a9b82bae",
   "metadata": {},
   "outputs": [],
   "source": [
    "merged = 0\n",
    "not_merged = 0\n",
    "for line in lines:\n",
    "    if \"|M|\" in line[\"descriptor\"]:\n",
    "        merged += 1\n",
    "    else:\n",
    "        not_merged += 1\n",
    "\n",
    "print(merged)\n",
    "print(not_merged)"
   ]
  },
  {
   "cell_type": "code",
   "execution_count": 5,
   "id": "b51571b5-75a5-49c6-9aee-6c1dc235786e",
   "metadata": {},
   "outputs": [],
   "source": [
    "path = Path(\"../data/faiss/mahti2/descriptors.txt\")\n",
    "\n",
    "with path.open() as f:\n",
    "    lines = []\n",
    "    for line in f:\n",
    "        lines.append(line)"
   ]
  },
  {
   "cell_type": "code",
   "execution_count": 6,
   "id": "645fcb62-35d9-4c90-a305-0bb0630ce955",
   "metadata": {},
   "outputs": [
    {
     "data": {
      "text/plain": [
       "['020 8884 1166: the document provides a phone number for greenfields solicitors, making it 020 8884 1166. |M| greenfields solicitors: the text provides contact information for greenfields solicitors, making it greenfields solicitors.\\n',\n",
       " '1,668 to 2,897 square feet: the document describes the 1,668 to 2,897 square feet, emphasizing the spaciousness and comfort of the homes. |M| 1,879 to 3,209 square feet: the document mentions the 1,879 to 3,209 square feet, emphasizing the spaciousness and comfort of the homes.\\n',\n",
       " '10,000 ukrainians: the document describes 10,000 ukrainians, specifically the number of ukrainians living in westchester county. |M| westchester county: the document describes westchester county, specifically the location of ukrainians living in the united states.\\n',\n",
       " \"10-year anniversary: the document mentions the 10-year anniversary of the super bowl, which provides context for the discussion. the anniversary serves as a catalyst for the author's reflection on the past and their analysis of chucky's statement. the mention of the anniversary also adds a sense of nostalgia and nostalgia to the text, as the author looks back on past events and experiences. |M| super bowl: the document discusses the super bowl, which is a significant event in the world of american football. the super bowl serves as a reference point for the author's discussion of the bucs' performance and chucky's statement. the mention of the super bowl also adds a sense of excitement and importance to the text, as the author analyzes the team's achievements and setbacks.\\n\",\n",
       " \"10-year warranty: the document mentions a 10-year warranty, which suggests that the company is confident in the quality of its work. this warranty provides a sense of security and assurance to the reader, implying that the company stands behind its services and is committed to providing a high level of quality. |M| guarantees: the company offers guarantees, including a 10-year workmanship guarantee. this is relevant to the document as it establishes the company's commitment to standing behind its work. the guarantees are a key aspect of the company's promotional strategy.\\n\",\n",
       " \"108 minutes long: the movie's duration is 108 minutes, providing readers with information about the length of the film. this detail helps viewers plan their time and decide whether they want to commit to watching the movie. the length of the movie also gives an idea about the pace and depth of the story. |M| movie length: the document mentions the movie's length, indicating that it is 120 minutes long. this is relevant as it provides useful information for readers who want to know more about the movie.\\n\",\n",
       " \"12-month duration: the document specifies that the program lasts for 12 months, providing a clear timeline for participants. |M| 12-week duration: the program lasts for 12 weeks, indicating a specific timeframe. this duration is relevant as it provides readers with a clear understanding of the program's length. the duration is also intensive, requiring students to complete extensive work.\\n\",\n",
       " '14nm: this descriptor refers to the size of the transistors used in a product, in this case, the intel core m processor. it is a general descriptor as it can be applied to various products and features. |M| tri-gate: this descriptor refers to a type of transistor design, in this case, the intel core m processor. it is a general descriptor as it can be applied to various products and features.\\n',\n",
       " \"16th century setting: the document begins in the 16th century, providing a historical context for the events described. |M| sixteenth century setting: the document is set in the sixteenth century, which is relevant to understanding the subject's life and career.\\n\",\n",
       " '17th century context: the document is set in the 17th and 18th centuries, providing context for the historical events described. |M| 17th-century setting: the events described in the document are set in the 17th century, providing context for the historical period.\\n']"
      ]
     },
     "execution_count": 6,
     "metadata": {},
     "output_type": "execute_result"
    }
   ],
   "source": [
    "lines[0:10]"
   ]
  }
 ],
 "metadata": {
  "kernelspec": {
   "display_name": "Python 3 (venv)",
   "language": "python",
   "name": "ood_venv_python3"
  },
  "language_info": {
   "codemirror_mode": {
    "name": "ipython",
    "version": 3
   },
   "file_extension": ".py",
   "mimetype": "text/x-python",
   "name": "python",
   "nbconvert_exporter": "python",
   "pygments_lexer": "ipython3",
   "version": "3.12.8"
  }
 },
 "nbformat": 4,
 "nbformat_minor": 5
}
